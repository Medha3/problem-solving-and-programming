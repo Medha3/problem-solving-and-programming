{
 "cells": [
  {
   "cell_type": "code",
   "execution_count": 1,
   "metadata": {},
   "outputs": [
    {
     "name": "stdout",
     "output_type": "stream",
     "text": [
      "Hello Good Afternoon\n"
     ]
    }
   ],
   "source": [
    "x=10\n",
    "if(x>15):\n",
    "    print(\"Hello Good Morning\");\n",
    "else:\n",
    "    print(\"Hello Good Afternoon\");"
   ]
  },
  {
   "cell_type": "code",
   "execution_count": 2,
   "metadata": {},
   "outputs": [
    {
     "name": "stdout",
     "output_type": "stream",
     "text": [
      "x is greater\n"
     ]
    }
   ],
   "source": [
    "x=5\n",
    "y=2\n",
    "if(\"x>y\"):\n",
    "    print(\"x is greater\");\n",
    "else:\n",
    "    print(\"y is greater\");"
   ]
  },
  {
   "cell_type": "markdown",
   "metadata": {},
   "source": [
    "##Need two numbers as input if both the numbers are same then output must be square a first number if not the output must be multiplication of both numbers."
   ]
  },
  {
   "cell_type": "code",
   "execution_count": 3,
   "metadata": {},
   "outputs": [
    {
     "name": "stdout",
     "output_type": "stream",
     "text": [
      "100\n"
     ]
    }
   ],
   "source": [
    "x=10\n",
    "y=10\n",
    "if(x==y):\n",
    "    print(x*x);\n",
    "else:\n",
    "    print(x*y);"
   ]
  },
  {
   "cell_type": "markdown",
   "metadata": {},
   "source": [
    "only one number as input we are looking whether given number is zero,positive or negative number"
   ]
  },
  {
   "cell_type": "code",
   "execution_count": 4,
   "metadata": {},
   "outputs": [
    {
     "name": "stdout",
     "output_type": "stream",
     "text": [
      "Its a positive number\n"
     ]
    }
   ],
   "source": [
    "x=4;\n",
    "if(x<0):\n",
    "    print(\"Its a negative number\");\n",
    "elif(x>0):\n",
    "    print(\"Its a positive number\");\n",
    "elif(x==0):\n",
    "    print(\"It is Zero\");"
   ]
  },
  {
   "cell_type": "markdown",
   "metadata": {},
   "source": [
    "loop statements-while\n",
    "\n",
    "syntax:while(condition):loopstatements incresent/decresent\n",
    "The loop will get executes as long as"
   ]
  },
  {
   "cell_type": "code",
   "execution_count": 5,
   "metadata": {},
   "outputs": [
    {
     "name": "stdout",
     "output_type": "stream",
     "text": [
      "1\n",
      "2\n",
      "3\n",
      "4\n",
      "5\n",
      "6\n",
      "7\n",
      "8\n",
      "9\n",
      "10\n"
     ]
    }
   ],
   "source": [
    "n=1;\n",
    "while(n<=10):\n",
    "    print(n);\n",
    "    n=n+1;"
   ]
  },
  {
   "cell_type": "markdown",
   "metadata": {},
   "source": [
    "Print the number from 10 to 1"
   ]
  },
  {
   "cell_type": "code",
   "execution_count": 6,
   "metadata": {},
   "outputs": [
    {
     "name": "stdout",
     "output_type": "stream",
     "text": [
      "10\n",
      "9\n",
      "8\n",
      "7\n",
      "6\n",
      "5\n",
      "4\n",
      "3\n",
      "2\n",
      "1\n"
     ]
    }
   ],
   "source": [
    "n=10;\n",
    "while(n>=1):\n",
    "    print(n);\n",
    "    n=n-1;"
   ]
  },
  {
   "cell_type": "markdown",
   "metadata": {},
   "source": [
    "Print the numbers from -22 to -45"
   ]
  },
  {
   "cell_type": "code",
   "execution_count": 7,
   "metadata": {},
   "outputs": [
    {
     "name": "stdout",
     "output_type": "stream",
     "text": [
      "-22\n",
      "-23\n",
      "-24\n",
      "-25\n",
      "-26\n",
      "-27\n",
      "-28\n",
      "-29\n",
      "-30\n",
      "-31\n",
      "-32\n",
      "-33\n",
      "-34\n",
      "-35\n",
      "-36\n",
      "-37\n",
      "-38\n",
      "-39\n",
      "-40\n",
      "-41\n",
      "-42\n",
      "-43\n",
      "-44\n",
      "-45\n"
     ]
    }
   ],
   "source": [
    "x=-22;\n",
    "while(x>=-45):\n",
    "    print(x);\n",
    "    x=x-1;"
   ]
  },
  {
   "cell_type": "markdown",
   "metadata": {},
   "source": [
    "Print the sum of even numbers from 1 to 100."
   ]
  },
  {
   "cell_type": "code",
   "execution_count": 8,
   "metadata": {},
   "outputs": [
    {
     "name": "stdout",
     "output_type": "stream",
     "text": [
      "Enter lower list1\n",
      "Enter upper list10\n",
      "20\n"
     ]
    }
   ],
   "source": [
    "x=int(input(\"Enter lower list\"))\n",
    "y=int(input(\"Enter upper list\"))\n",
    "sum=0\n",
    "while(x!=y):\n",
    "    if(x%2==0):\n",
    "        sum=sum+x\n",
    "    x=x+1\n",
    "    \n",
    "print(sum)"
   ]
  },
  {
   "cell_type": "markdown",
   "metadata": {},
   "source": [
    "input:number\n",
    "output:extract the digits of number from right side direction\n",
    "test case:\n",
    "145--541\n",
    "1889--9881"
   ]
  },
  {
   "cell_type": "code",
   "execution_count": null,
   "metadata": {},
   "outputs": [
    {
     "name": "stdout",
     "output_type": "stream",
     "text": [
      "Enter a number145\n",
      "5\n",
      "4\n",
      "1\n"
     ]
    }
   ],
   "source": [
    "x=int(input(\"Enter a number\"))\n",
    "while(x!=0):\n",
    "    r=x%10\n",
    "    print(r)\n",
    "    x=x//10"
   ]
  },
  {
   "cell_type": "code",
   "execution_count": null,
   "metadata": {},
   "outputs": [
    {
     "name": "stdout",
     "output_type": "stream",
     "text": [
      "Enter a number145\n",
      "4\n"
     ]
    }
   ],
   "source": [
    "x=int(input(\"Enter a number\"))\n",
    "sum=0\n",
    "while(x!=0):\n",
    "    r=x%10\n",
    "    if(r%2==0):\n",
    "        sum=sum+r\n",
    "    x=x//10\n",
    "    \n",
    "print(sum)   \n",
    "        "
   ]
  },
  {
   "cell_type": "code",
   "execution_count": null,
   "metadata": {},
   "outputs": [
    {
     "name": "stdout",
     "output_type": "stream",
     "text": [
      "Enter a number346\n",
      "six\n",
      "Four\n",
      "Three\n"
     ]
    }
   ],
   "source": [
    "x=int(input(\"Enter a number\"))\n",
    "while(x!=0):\n",
    "    r=x%10\n",
    "    if(r==0):\n",
    "        print(\"zero\")\n",
    "    elif(r==1):\n",
    "        print(\"one\")\n",
    "    elif(r==2):\n",
    "        print(\"Two\")\n",
    "    elif(r==3):\n",
    "        print(\"Three\")\n",
    "    elif(r==4):\n",
    "        print(\"Four\")\n",
    "    elif(r==5):\n",
    "        print(\"Five\")\n",
    "    elif(r==6):\n",
    "        print(\"six\")\n",
    "    elif(r==7):\n",
    "        print(\"Seven\")\n",
    "    elif(r==8):\n",
    "        print(\"Eight\")\n",
    "    elif(r==9):\n",
    "        print(\"Nine\")\n",
    "    x=x//10\n",
    "    "
   ]
  },
  {
   "cell_type": "markdown",
   "metadata": {},
   "source": [
    "input three numbers\n",
    "output how many timnes the number is repeated between 2nd and 3rd number\n",
    "test cases :6,60,65 ---6\n",
    "7,70,88 ---12\n",
    "2,120,220 --- 40"
   ]
  },
  {
   "cell_type": "code",
   "execution_count": null,
   "metadata": {},
   "outputs": [
    {
     "name": "stdout",
     "output_type": "stream",
     "text": [
      "Enter a number6\n",
      "Enter lower list60\n",
      "Enter upper list65\n"
     ]
    }
   ],
   "source": [
    "digit=int(input(\"Enter a number\"));\n",
    "l1=int(input(\"Enter lower list\"));\n",
    "l2=int(input(\"Enter upper list\"));\n",
    "\n",
    "cnt=0;\n",
    "\n",
    "while(l1!=l2):\n",
    "    buffer=l1;\n",
    "    while(l1!=0):\n",
    "        r=l1%10;\n",
    "    if(r==digit):\n",
    "        cnt=cnt+1;\n",
    "    l1=l1//10;\n",
    "    l1=buffer;\n",
    "    l1=l1+1;\n",
    "        \n",
    "print(cnt);       "
   ]
  },
  {
   "cell_type": "code",
   "execution_count": null,
   "metadata": {},
   "outputs": [],
   "source": [
    "def"
   ]
  }
 ],
 "metadata": {
  "kernelspec": {
   "display_name": "Python 3",
   "language": "python",
   "name": "python3"
  },
  "language_info": {
   "codemirror_mode": {
    "name": "ipython",
    "version": 3
   },
   "file_extension": ".py",
   "mimetype": "text/x-python",
   "name": "python",
   "nbconvert_exporter": "python",
   "pygments_lexer": "ipython3",
   "version": "3.7.3"
  }
 },
 "nbformat": 4,
 "nbformat_minor": 2
}
